{
 "cells": [
  {
   "cell_type": "code",
   "execution_count": 1,
   "id": "2cf60663-1cb3-4f40-9492-282a3813b81a",
   "metadata": {},
   "outputs": [],
   "source": [
    "%load_ext autoreload\n",
    "%autoreload 2\n",
    "import numpy as np\n",
    "import torch\n",
    "import h5py\n",
    "from load_data import voxelize\n",
    "import matplotlib.pyplot as plt\n",
    "from mpl_toolkits.mplot3d import Axes3D\n",
    "from io import BytesIO\n",
    "from PIL import Image\n",
    "\n",
    "def visualize_voxel(voxel_grid):\n",
    "    \"\"\"\n",
    "    Visualizes a 3D binary voxel grid using matplotlib.\n",
    "\n",
    "    Parameters:\n",
    "    voxel_grid (numpy.ndarray): A 3D binary voxel grid where 1 indicates occupancy and 0 indicates empty.\n",
    "    \"\"\"\n",
    "\n",
    "    # Get the coordinates of occupied voxels\n",
    "    occupied_voxels = np.argwhere(voxel_grid == 1)\n",
    "\n",
    "    # Create a 3D plot\n",
    "    fig = plt.figure()\n",
    "    plt.tight_layout()\n",
    "\n",
    "    ax = fig.add_subplot(111, projection='3d')\n",
    "\n",
    "    # Plot occupied voxels as scatter points\n",
    "    ax.scatter(occupied_voxels[:, 0], occupied_voxels[:, 2], occupied_voxels[:, 1])\n",
    "\n",
    "    # Set labels\n",
    "    ax.set_xlabel('X')\n",
    "    ax.set_ylabel('Y')\n",
    "    ax.set_zlabel('Z')\n",
    "\n",
    "    # Set the aspect ratio to be equal\n",
    "    ax.set_box_aspect([1, 1, 1])\n",
    "\n",
    "    # Set the limits for the axes\n",
    "    ax.set_xlim([0, voxel_grid.shape[0]])\n",
    "    ax.set_ylim([0, voxel_grid.shape[1]])\n",
    "    ax.set_zlim([0, voxel_grid.shape[2]])\n",
    "    \n",
    "    ax.axis(\"off\")\n",
    "    buf = BytesIO()\n",
    "    plt.savefig(buf, format='png')\n",
    "    buf.seek(0)  # Move the buffer cursor to the beginning\n",
    "    plt.close()\n",
    "    # Convert the buffer into a Pillow Image\n",
    "    img = Image.open(buf)\n",
    "    return img"
   ]
  },
  {
   "cell_type": "code",
   "execution_count": null,
   "id": "85e622fa-c6c3-47e0-8dee-c1998507ec37",
   "metadata": {},
   "outputs": [],
   "source": [
    "# load the preprocessed v\n",
    "voxels = np.load(\"./data/hdf5_data/chair_voxels_train.npy\")\n",
    "print(voxels.shape)"
   ]
  },
  {
   "cell_type": "code",
   "execution_count": null,
   "id": "b1041446-0680-4615-9677-1e2ddeb83f5c",
   "metadata": {},
   "outputs": [],
   "source": [
    "img = visualize_voxel(voxels[0])\n",
    "display(img)"
   ]
  },
  {
   "cell_type": "code",
   "execution_count": null,
   "id": "155e7c13-f20a-4e84-9772-37fe0c6a648e",
   "metadata": {},
   "outputs": [],
   "source": []
  }
 ],
 "metadata": {
  "kernelspec": {
   "display_name": "Python 3 (ipykernel)",
   "language": "python",
   "name": "python3"
  },
  "language_info": {
   "codemirror_mode": {
    "name": "ipython",
    "version": 3
   },
   "file_extension": ".py",
   "mimetype": "text/x-python",
   "name": "python",
   "nbconvert_exporter": "python",
   "pygments_lexer": "ipython3",
   "version": "3.9.18"
  }
 },
 "nbformat": 4,
 "nbformat_minor": 5
}
